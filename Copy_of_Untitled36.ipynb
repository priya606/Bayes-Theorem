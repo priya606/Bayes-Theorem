{
  "nbformat": 4,
  "nbformat_minor": 0,
  "metadata": {
    "colab": {
      "name": "Copy of Untitled36.ipynb",
      "provenance": [],
      "authorship_tag": "ABX9TyNx9SptKl27+zK3dNC57ehr",
      "include_colab_link": true
    },
    "kernelspec": {
      "name": "python3",
      "display_name": "Python 3"
    },
    "language_info": {
      "name": "python"
    }
  },
  "cells": [
    {
      "cell_type": "markdown",
      "metadata": {
        "id": "view-in-github",
        "colab_type": "text"
      },
      "source": [
        "<a href=\"https://colab.research.google.com/github/priya606/Bayes-Theorem/blob/main/Copy_of_Untitled36.ipynb\" target=\"_parent\"><img src=\"https://colab.research.google.com/assets/colab-badge.svg\" alt=\"Open In Colab\"/></a>"
      ]
    },
    {
      "cell_type": "markdown",
      "source": [
        "### 1.State and prove Bayes Theorem. Explain all the intermediate steps and theorems\n",
        "\n",
        "\n",
        "Bayes' Theorem states that the conditional probability of an event, based on the occurrence of another event, is equal to the likelihood of the second event given the first event multiplied by the probability of the first event.\n",
        "given as,\n",
        "\n",
        "P(A/B)=P(B/A).P(A)/P(B)\n",
        "\n",
        "A,B = events\n",
        "\n",
        "P(A|B) = probability of A given B is true\n",
        "\n",
        "P(B|A) =  probability of B given A is true\n",
        "\n",
        "P(A),P(B) =  the independent probabilities of A and B\n",
        "\n",
        "The intermediate steps and theorems as follows:\n",
        "\n",
        "    1.Experiment\n",
        "    2.Sample Space\n",
        "    3.Event\n",
        "    4.Random Variable\n",
        "    5.Exhaustive Events\n",
        "    6.Indpendent Events\n",
        "    7.Conditional Probability\n",
        "    8.Marginal Probability\n",
        "\n",
        "1.Experiment: An experiment is a planned operation carried out under controlled conditions.\n",
        "\n",
        "examples are: Tossing a coin, rolling a die\n",
        "\n",
        "2.Sample Space: The result of an experiment is called an outcome.The set of all possible outcomes is known as sample space\n",
        "\n",
        "examples : throwing a dice,its outcome will be s1={1,2,3,4,5,6}\n",
        "\n",
        "3.Event: An event is a set of outcomes (a subset of the sample space)\n",
        "\n",
        "example : an even number obtained in rolling of dice is \n",
        " e={2,4,6}\n",
        "\n",
        "4.Random Variable :  variable taking on random values with each value having some probability\n",
        "\n",
        "example: the outcome of a coin toss,the random variable Y is the number of heads we get from tossing two coins, then Y could be 0, 1, or 2\n",
        "\n",
        "5.Exhaustive events:  if at least one of the events must occur at any time. Thus, two events A and B are said to be exhaustive if A ∪ B = S, the sample space.\n",
        "\n",
        "example: A is the event that a card drawn out of a pack is red and B is the event that the card drawn is black. Here, A and B are exhaustive because the sample space S = {red, black}. \n",
        "\n",
        "6.Independent events: If the occurrence of one event does not have any effect on the occurrence of another, then the two events are said to be independent. Mathematically, two events A and B are said to be independent if:\n",
        "\n",
        "P(A ∩ B) = P(AB) = P(A)*P(B)\n",
        "\n",
        "example: A is obtaining a 5 on throwing a die and B is drawing a king of hearts from a well-shuffled pack of cards, then A and B are independent \n",
        "\n",
        "7.Conditional Probability : Conditional probability is defined as the probability of an event A, given that another event B has already occurred\n",
        "\n",
        "   \n",
        "    P(A|B)=P(A ∩ B)/P(B)\n",
        "\n",
        "example:  A represent picking a king, and event B, picking a black card. Then, we find P(A|B) using the above formula:\n",
        "\n",
        "P(A ∩ B) = P(Obtaining a black card which is a King) = 2/52 \n",
        "P(B) = P(Picking a black card) = 1/2\n",
        "Thus, P(A|B) = 4/52. \n",
        "\n",
        "8.Marginal Probability: It is the probability of an event A occurring, independent of any other event B, i.e. marginalizing the event B\n",
        "           \n",
        "           Marginal probability P(A) = P(A) = P(A ∩ B) + P(A ∩ ~B)\n",
        "\n",
        "\n",
        "\n",
        "\n"
      ],
      "metadata": {
        "id": "ti7-kWMM-FdL"
      }
    },
    {
      "cell_type": "markdown",
      "source": [
        "#### 2.Explain the significance of Bayes theorem and for what type of problems it is helpful"
      ],
      "metadata": {
        "id": "BA740FGjvMH1"
      }
    },
    {
      "cell_type": "markdown",
      "source": [
        "1.Bayes theorem provides a way to revise existing  predictions or theories.\n",
        "\n",
        "\n",
        "2.Bayes theorem helps to determine the probability of an event with random knowledge. It is used to calculate the probability of occurring one event while other one already occurred. It is a best method to relate the condition probability and marginal probability.\n",
        "\n",
        "Bayes theorem is helpful for kind of problems like:\n",
        "\n",
        "1.Bayes theorem is used to find the reverse probabilities if we know the conditional probability of an event.\n",
        "\n",
        "2.Bayes theorem used to define the accuracy of medical test results by considering how likely any given person is to have a disease and the test's overall accuracy.\n",
        "\n",
        "\n",
        "\n"
      ],
      "metadata": {
        "id": "WaHDSFXLvKuM"
      }
    },
    {
      "cell_type": "markdown",
      "source": [
        "### 3. Explain Naive Bayes classifier and training process."
      ],
      "metadata": {
        "id": "Aa1_vdzO1Vk2"
      }
    },
    {
      "cell_type": "markdown",
      "source": [
        "\n",
        "\n",
        "*   Naive Bayes algorithm is a supervised learning algorithm, which is based on Bayes theorem and used for solving classification problems and used in text classification that includes high dimension dataset\n",
        "\n",
        "*  It is most effective builds fast learning models that makes quick and accurate results\n",
        "\n",
        "\n",
        "\n",
        "*   It can be used for Binary as well as Multi-class Classifications. It performs well in Multi-class predictions as compared to the other Algorithms. It is the most popular choice for text classification problems.\n",
        "\n",
        "\n",
        "Training process of naive bayes classifier is:\n",
        "\n",
        "    Data Pre-processing step\n",
        "    Fitting Naive Bayes to the Training set\n",
        "    Predicting the test result\n",
        "    Test accuracy of the result(Creation of Confusion matrix)\n",
        "    Visualizing the test set result\n",
        "\n",
        "1.Data preprocessing step: In this process we need to clean the data if data contains any null values or missing values\n",
        "\n",
        "2.Fitting Naive Bayes to the Training set: we will fit our naive bayes model to our training set\n",
        "\n",
        "3.Predicting the test result: Now we will predict the test set result. For this, we will create a new predictor variable y_pred, and will use the predict function to make the predictions.\n",
        "\n",
        "4.Test accuracy of the result: we will check the accuracy of the Naive Bayes classifier using the confusion matrix\n",
        "\n",
        "5.Visualizing the test set result: visualizing can be done by using matplotlib,seaborn libraries\n",
        "\n",
        "\n",
        "\n",
        "\n",
        "\n",
        "\n",
        "\n"
      ],
      "metadata": {
        "id": "bvTs6QeH1bw8"
      }
    },
    {
      "cell_type": "markdown",
      "source": [
        "###4. Explain Email span filtering and how Bayes theorem can be helpful.\n",
        "\n",
        "\n",
        "Email-spam refers to any type of unwanted bulk communication via email spam filters work based on:\n",
        "\n",
        "1.Content filters\n",
        "\n",
        "2.Blacklist filters\n",
        "\n",
        "3.Haeder filters\n",
        "\n",
        "4.Language filters\n",
        "\n",
        "With Bayes Rule, we want to find the probability an email is spam, given it contains certain words. We do this by finding the probability that each word in the email is spam, and then multiply these probabilities together to get the overall email spam metric to be used in classification"
      ],
      "metadata": {
        "id": "szgo41sa8MzC"
      }
    }
  ]
}